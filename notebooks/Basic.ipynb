{
 "cells": [
  {
   "cell_type": "markdown",
   "id": "803096e5-741c-4602-b0ee-7a489a5a8614",
   "metadata": {},
   "source": [
    "# Repr LLM\n",
    "\n",
    "Large Language Models are highly capable people-facsimiles. By their trained nature, they \"understand\" a lot more than any individual does. When a model comes across text that is more advanced, it can understand a lot more about the meaning.\n",
    "\n",
    "In Python, we have a way to represent our objects within interpreters: `repr`.\n",
    "\n",
    "In IPython, it goes even further. We can register `_repr_html_` on our objects to create rich HTML versions. Classically, everyone has been delighted to have tables shown in their notebooks when using `pandas`.\n",
    "\n",
    "The `repr_llm` package introduces the idea that python objects can emit a rich representation for LLM consumption. With the advent of [OpenAI's Code Interpreter](https://openai.com/blog/chatgpt-plugins#code-interpreter),  [Noteable plugin for ChatGPT](https://noteable.io/chatgpt-plugin-for-notebook/), and [LangChain's Python REPL Tool](https://github.com/hwchase17/langchain/blob/fcb3a647997c6275e3d341abb032e5106ea39cac/langchain/tools/python/tool.py#L42C1-L42C1), we have massive opportunity to create rich visualizations for humans and rich text for models.\n",
    "\n",
    "Let's begin by creating a `Book` class that has a regular `__repr__` and a `_repr_llm_`:"
   ]
  },
  {
   "cell_type": "code",
   "execution_count": 1,
   "id": "473dfb4a-524c-468c-9837-794ab7740912",
   "metadata": {},
   "outputs": [],
   "source": [
    "class Book:\n",
    "    def __init__(self, title, author, year, genre):\n",
    "        self.title = title\n",
    "        self.author = author\n",
    "        self.year = year\n",
    "        self.genre = genre\n",
    "\n",
    "    def __repr__(self):\n",
    "        return f\"Book('{self.title}', '{self.author}', {self.year}, '{self.genre}')\"\n",
    "\n",
    "    def _repr_llm_(self):\n",
    "        return (f\"A Book object representing '{self.title}' by {self.author}, \"\n",
    "                f\"published in the year {self.year}. Genre: {self.genre}. \"\n",
    "                f\"Instantiated with `{repr(self)}`\"\n",
    "               )"
   ]
  },
  {
   "cell_type": "markdown",
   "id": "7f812986-7bbf-437e-bcee-2369e1367a0f",
   "metadata": {},
   "source": [
    "When we evaluate it, we see the `__repr__` of the object."
   ]
  },
  {
   "cell_type": "code",
   "execution_count": 2,
   "id": "1371defe-fe12-4a60-963e-2d7da520370d",
   "metadata": {},
   "outputs": [
    {
     "data": {
      "text/plain": [
       "Book('Attack of the Black Rectangles', 'Amy Sarig King', 2022, 'Middle Grade')"
      ]
     },
     "execution_count": 2,
     "metadata": {},
     "output_type": "execute_result"
    }
   ],
   "source": [
    "Book('Attack of the Black Rectangles', 'Amy Sarig King', 2022, \"Middle Grade\")"
   ]
  },
  {
   "cell_type": "markdown",
   "id": "3b7f2e0d-c0bf-4719-b218-999e006799e3",
   "metadata": {},
   "source": [
    "Under the hood, IPython calculates all the media types (AKA mime types) and pushes them to the frontend to display rich versions."
   ]
  },
  {
   "cell_type": "code",
   "execution_count": 3,
   "id": "ec3e6693-41b4-47de-b95d-527d31bb4869",
   "metadata": {},
   "outputs": [
    {
     "data": {
      "text/markdown": [
       "\n",
       "### `text/plain`\n",
       "\n",
       "Book('Attack of the Black Rectangles', 'Amy Sarig King', 2022, 'Middle Grade')\n"
      ],
      "text/plain": [
       "<IPython.core.display.Markdown object>"
      ]
     },
     "metadata": {},
     "output_type": "display_data"
    }
   ],
   "source": [
    "from IPython.display import Markdown\n",
    "\n",
    "ip = get_ipython()\n",
    "\n",
    "data, _ = ip.display_formatter.format(\n",
    "    Book('Attack of the Black Rectangles', 'Amy Sarig King', 2022, \"Middle Grade\")\n",
    ")\n",
    "\n",
    "for key in data.keys():\n",
    "    display(Markdown(f\"\"\"\n",
    "### `{key}`\n",
    "\n",
    "{data[key]}\n",
    "\"\"\"))"
   ]
  },
  {
   "cell_type": "markdown",
   "id": "09346220-04c4-4c23-a722-bd420e5176ab",
   "metadata": {},
   "source": [
    "## Enabling more media types with formatters\n",
    "\n",
    "As you can see, `text/plain` is the media type for the `__repr__` output. Let's now register the LLM formatter in IPython."
   ]
  },
  {
   "cell_type": "code",
   "execution_count": 4,
   "id": "31553260-1aa6-4f4e-9c82-e4c7e98342dd",
   "metadata": {},
   "outputs": [
    {
     "data": {
      "text/plain": [
       "<repr_llm.formatter.LLMFormatter at 0x1050545d0>"
      ]
     },
     "execution_count": 4,
     "metadata": {},
     "output_type": "execute_result"
    }
   ],
   "source": [
    "from repr_llm import register_llm_formatter\n",
    "\n",
    "ip = get_ipython() # Current IPython shell\n",
    "register_llm_formatter()"
   ]
  },
  {
   "cell_type": "code",
   "execution_count": 5,
   "id": "a0d72209-03ae-46d2-96dc-6ba06623cac8",
   "metadata": {},
   "outputs": [
    {
     "data": {
      "text/markdown": [
       "\n",
       "### `text/plain`\n",
       "\n",
       "Book('Attack of the Black Rectangles', 'Amy Sarig King', 2022, 'Middle Grade')\n"
      ],
      "text/plain": [
       "<IPython.core.display.Markdown object>"
      ]
     },
     "metadata": {},
     "output_type": "display_data"
    },
    {
     "data": {
      "text/markdown": [
       "\n",
       "### `text/llm+plain`\n",
       "\n",
       "A Book object representing 'Attack of the Black Rectangles' by Amy Sarig King, published in the year 2022. Genre: Middle Grade. Instantiated with `Book('Attack of the Black Rectangles', 'Amy Sarig King', 2022, 'Middle Grade')`\n"
      ],
      "text/plain": [
       "<IPython.core.display.Markdown object>"
      ]
     },
     "metadata": {},
     "output_type": "display_data"
    }
   ],
   "source": [
    "data, _ = ip.display_formatter.format(\n",
    "    Book('Attack of the Black Rectangles', 'Amy Sarig King', 2022, \"Middle Grade\")\n",
    ")\n",
    "\n",
    "for key in data.keys():\n",
    "    display(Markdown(f\"\"\"\n",
    "### `{key}`\n",
    "\n",
    "{data[key]}\n",
    "\"\"\"))"
   ]
  },
  {
   "cell_type": "markdown",
   "id": "d54fbbf2-8336-4ede-811c-d21c7f661da4",
   "metadata": {},
   "source": [
    "## It's that easy\n",
    "\n",
    "Start adding `_repr_llm_` to your objects today! We're building it into [chatlab](https://github.com/rgbkrk/chatlab) directly so that you can benefit from rich pairing between humans and machines."
   ]
  }
 ],
 "metadata": {
  "kernelspec": {
   "display_name": "Python (repr-llm-dev)",
   "language": "python",
   "name": "python-repr-llm-dev"
  },
  "language_info": {
   "codemirror_mode": {
    "name": "ipython",
    "version": 3
   },
   "file_extension": ".py",
   "mimetype": "text/x-python",
   "name": "python",
   "nbconvert_exporter": "python",
   "pygments_lexer": "ipython3",
   "version": "3.11.1"
  }
 },
 "nbformat": 4,
 "nbformat_minor": 5
}
